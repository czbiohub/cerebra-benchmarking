{
 "cells": [
  {
   "cell_type": "code",
   "execution_count": null,
   "metadata": {},
   "outputs": [],
   "source": [
    "''' does it make any difference if i try reading these with pyvcf? '''"
   ]
  },
  {
   "cell_type": "code",
   "execution_count": 1,
   "metadata": {},
   "outputs": [],
   "source": [
    "import vcf"
   ]
  },
  {
   "cell_type": "code",
   "execution_count": 4,
   "metadata": {
    "scrolled": true
   },
   "outputs": [
    {
     "name": "stdout",
     "output_type": "stream",
     "text": [
      "Record(CHROM=chr1, POS=942934, REF=G, ALT=[C])\n",
      "Record(CHROM=chr1, POS=946247, REF=G, ALT=[A])\n",
      "Record(CHROM=chr1, POS=952180, REF=A, ALT=[C])\n",
      "Record(CHROM=chr1, POS=952421, REF=A, ALT=[G])\n",
      "Record(CHROM=chr1, POS=953259, REF=T, ALT=[C])\n",
      "Record(CHROM=chr1, POS=953279, REF=T, ALT=[C])\n"
     ]
    },
    {
     "ename": "ValueError",
     "evalue": "could not convert string to float: '953778_G_C'",
     "output_type": "error",
     "traceback": [
      "\u001b[0;31m---------------------------------------------------------------------------\u001b[0m",
      "\u001b[0;31mValueError\u001b[0m                                Traceback (most recent call last)",
      "\u001b[0;32m/usr/local/anaconda3/envs/cerebra/lib/python3.6/site-packages/vcf/parser.py\u001b[0m in \u001b[0;36m_parse_samples\u001b[0;34m(self, samples, samp_fmt, site)\u001b[0m\n\u001b[1;32m    480\u001b[0m                         \u001b[0;32mtry\u001b[0m\u001b[0;34m:\u001b[0m\u001b[0;34m\u001b[0m\u001b[0;34m\u001b[0m\u001b[0m\n\u001b[0;32m--> 481\u001b[0;31m                             \u001b[0msampdat\u001b[0m\u001b[0;34m[\u001b[0m\u001b[0mi\u001b[0m\u001b[0;34m]\u001b[0m \u001b[0;34m=\u001b[0m \u001b[0mint\u001b[0m\u001b[0;34m(\u001b[0m\u001b[0mvals\u001b[0m\u001b[0;34m)\u001b[0m\u001b[0;34m\u001b[0m\u001b[0;34m\u001b[0m\u001b[0m\n\u001b[0m\u001b[1;32m    482\u001b[0m                         \u001b[0;32mexcept\u001b[0m \u001b[0mValueError\u001b[0m\u001b[0;34m:\u001b[0m\u001b[0;34m\u001b[0m\u001b[0;34m\u001b[0m\u001b[0m\n",
      "\u001b[0;31mValueError\u001b[0m: invalid literal for int() with base 10: '953778_G_C'",
      "\nDuring handling of the above exception, another exception occurred:\n",
      "\u001b[0;31mValueError\u001b[0m                                Traceback (most recent call last)",
      "\u001b[0;32m<ipython-input-4-dfd32a5e35f2>\u001b[0m in \u001b[0;36m<module>\u001b[0;34m\u001b[0m\n\u001b[1;32m      3\u001b[0m \u001b[0;34m\u001b[0m\u001b[0m\n\u001b[1;32m      4\u001b[0m \u001b[0mvcf_reader\u001b[0m \u001b[0;34m=\u001b[0m \u001b[0mvcf\u001b[0m\u001b[0;34m.\u001b[0m\u001b[0mReader\u001b[0m\u001b[0;34m(\u001b[0m\u001b[0mopen\u001b[0m\u001b[0;34m(\u001b[0m\u001b[0mvcf_path_ensp\u001b[0m\u001b[0;34m,\u001b[0m \u001b[0;34m'r'\u001b[0m\u001b[0;34m)\u001b[0m\u001b[0;34m)\u001b[0m\u001b[0;34m\u001b[0m\u001b[0;34m\u001b[0m\u001b[0m\n\u001b[0;32m----> 5\u001b[0;31m \u001b[0;32mfor\u001b[0m \u001b[0mrecord\u001b[0m \u001b[0;32min\u001b[0m \u001b[0mvcf_reader\u001b[0m\u001b[0;34m:\u001b[0m\u001b[0;34m\u001b[0m\u001b[0;34m\u001b[0m\u001b[0m\n\u001b[0m\u001b[1;32m      6\u001b[0m     \u001b[0mprint\u001b[0m\u001b[0;34m(\u001b[0m\u001b[0mrecord\u001b[0m\u001b[0;34m)\u001b[0m\u001b[0;34m\u001b[0m\u001b[0;34m\u001b[0m\u001b[0m\n",
      "\u001b[0;32m/usr/local/anaconda3/envs/cerebra/lib/python3.6/site-packages/vcf/parser.py\u001b[0m in \u001b[0;36m__next__\u001b[0;34m(self)\u001b[0m\n\u001b[1;32m    584\u001b[0m \u001b[0;34m\u001b[0m\u001b[0m\n\u001b[1;32m    585\u001b[0m         \u001b[0;32mif\u001b[0m \u001b[0mfmt\u001b[0m \u001b[0;32mis\u001b[0m \u001b[0;32mnot\u001b[0m \u001b[0;32mNone\u001b[0m\u001b[0;34m:\u001b[0m\u001b[0;34m\u001b[0m\u001b[0;34m\u001b[0m\u001b[0m\n\u001b[0;32m--> 586\u001b[0;31m             \u001b[0msamples\u001b[0m \u001b[0;34m=\u001b[0m \u001b[0mself\u001b[0m\u001b[0;34m.\u001b[0m\u001b[0m_parse_samples\u001b[0m\u001b[0;34m(\u001b[0m\u001b[0mrow\u001b[0m\u001b[0;34m[\u001b[0m\u001b[0;36m9\u001b[0m\u001b[0;34m:\u001b[0m\u001b[0;34m]\u001b[0m\u001b[0;34m,\u001b[0m \u001b[0mfmt\u001b[0m\u001b[0;34m,\u001b[0m \u001b[0mrecord\u001b[0m\u001b[0;34m)\u001b[0m\u001b[0;34m\u001b[0m\u001b[0;34m\u001b[0m\u001b[0m\n\u001b[0m\u001b[1;32m    587\u001b[0m             \u001b[0mrecord\u001b[0m\u001b[0;34m.\u001b[0m\u001b[0msamples\u001b[0m \u001b[0;34m=\u001b[0m \u001b[0msamples\u001b[0m\u001b[0;34m\u001b[0m\u001b[0;34m\u001b[0m\u001b[0m\n\u001b[1;32m    588\u001b[0m \u001b[0;34m\u001b[0m\u001b[0m\n",
      "\u001b[0;32m/usr/local/anaconda3/envs/cerebra/lib/python3.6/site-packages/vcf/parser.py\u001b[0m in \u001b[0;36m_parse_samples\u001b[0;34m(self, samples, samp_fmt, site)\u001b[0m\n\u001b[1;32m    481\u001b[0m                             \u001b[0msampdat\u001b[0m\u001b[0;34m[\u001b[0m\u001b[0mi\u001b[0m\u001b[0;34m]\u001b[0m \u001b[0;34m=\u001b[0m \u001b[0mint\u001b[0m\u001b[0;34m(\u001b[0m\u001b[0mvals\u001b[0m\u001b[0;34m)\u001b[0m\u001b[0;34m\u001b[0m\u001b[0;34m\u001b[0m\u001b[0m\n\u001b[1;32m    482\u001b[0m                         \u001b[0;32mexcept\u001b[0m \u001b[0mValueError\u001b[0m\u001b[0;34m:\u001b[0m\u001b[0;34m\u001b[0m\u001b[0;34m\u001b[0m\u001b[0m\n\u001b[0;32m--> 483\u001b[0;31m                             \u001b[0msampdat\u001b[0m\u001b[0;34m[\u001b[0m\u001b[0mi\u001b[0m\u001b[0;34m]\u001b[0m \u001b[0;34m=\u001b[0m \u001b[0mfloat\u001b[0m\u001b[0;34m(\u001b[0m\u001b[0mvals\u001b[0m\u001b[0;34m)\u001b[0m\u001b[0;34m\u001b[0m\u001b[0;34m\u001b[0m\u001b[0m\n\u001b[0m\u001b[1;32m    484\u001b[0m                     \u001b[0;32melif\u001b[0m \u001b[0mentry_type\u001b[0m \u001b[0;34m==\u001b[0m \u001b[0;34m'Float'\u001b[0m\u001b[0;34m:\u001b[0m\u001b[0;34m\u001b[0m\u001b[0;34m\u001b[0m\u001b[0m\n\u001b[1;32m    485\u001b[0m                         \u001b[0msampdat\u001b[0m\u001b[0;34m[\u001b[0m\u001b[0mi\u001b[0m\u001b[0;34m]\u001b[0m \u001b[0;34m=\u001b[0m \u001b[0mfloat\u001b[0m\u001b[0;34m(\u001b[0m\u001b[0mvals\u001b[0m\u001b[0;34m)\u001b[0m\u001b[0;34m\u001b[0m\u001b[0;34m\u001b[0m\u001b[0m\n",
      "\u001b[0;31mValueError\u001b[0m: could not convert string to float: '953778_G_C'"
     ]
    }
   ],
   "source": [
    "vcf_path_basic = '../funco_bench_raw/ash_father_benchmark.vcf'\n",
    "vcf_path_ensp = '../funco_bench_ensp_tags/ash_father_benchmark_ensp.vcf'\n",
    "\n",
    "vcf_reader = vcf.Reader(open(vcf_path_ensp, 'r'))\n",
    "for record in vcf_reader:\n",
    "    print(record)"
   ]
  },
  {
   "cell_type": "code",
   "execution_count": 5,
   "metadata": {
    "scrolled": true
   },
   "outputs": [
    {
     "name": "stdout",
     "output_type": "stream",
     "text": [
      "chr1\n",
      "953279\n",
      "None\n",
      "T\n",
      "[C]\n",
      "50\n",
      "[]\n",
      "{'FUNCOTATION': ['[NOC2L|hg38|chr1|953279|953279|MISSENSE||SNP|T|T|C|g.chr1:953279T>C|ENST00000327044.6|-|9|948|c.898A>G|c.(898-900)Act>Gct|p.T300A|0.6084788029925187|CTCCATACGATCACCATTCTC||||||||||||||||||||||||||||113428|9351|11006|112291|1982|7854|49671|6259||7233|52529|62620|61823|852|11006|15146|0.935|792_%7C_1197_%7C_2603_%7C_4873_%7C_5534_%7C_6771_%7C_6458_%7C_5910_%7C_5171_%7C_3545_%7C_1878_%7C_807|680_%7C_1054_%7C_2316_%7C_4293_%7C_4830_%7C_5915_%7C_5652_%7C_5151_%7C_4565_%7C_3127_%7C_1634_%7C_713|121282|10280|11516|120032|2162|8606|53050|6520|66982|65720|896|11516|16494|1.64||C_%7C_missense_variant_%7C_MODERATE_%7C_NOC2L_%7C_ENSG00000188976_%7C_Transcript_%7C_ENST00000327044_%7C_protein_coding_%7C_9/19_%7C__%7C_ENST00000327044.6:c.898A>G_%7C_ENSP00000317992.6:p.Ile300Val_%7C_948_%7C_898_%7C_300_%7C_I/V_%7C_Atc/Gtc_%7C_rs3748597&COSM4144219_%7C_1_%7C__%7C_-1_%7C__%7C_SNV_%7C_1_%7C_HGNC_%7C_24517_%7C_YES_%7C__%7C__%7C_CCDS3.1_%7C_ENSP00000317992_%7C_Q9Y3T9_%7C__%7C_UPI000041820C_%7C__%7C_tolerated(1)_%7C_benign(0)_%7C_hmmpanther:PTHR12687:SF4&hmmpanther:PTHR12687&Superfamily_domains:SSF48371_%7C__%7C_T:0.0773_%7C_C:0.9183_%7C_C:0.907_%7C_C:0.9193_%7C_C:0.9206_%7C_C:0.9533_%7C_C:0.9172_%7C_C:0.9058_%7C_C:0.9384_%7C_C:0.9557_%7C_C:0.935_%7C_C:0.9096_%7C_C:0.9355_%7C_C:0.9126_%7C_C:0.96_%7C_C:0.9407_%7C_C:0.9509_%7C__%7C_0&1_%7C_0&1_%7C__%7C__%7C__%7C__%7C__%7C__%7C__%7C__%7C__%7C_ATC_%7C_C_%2C_C_%7C_downstream_gene_variant_%7C_MODIFIER_%7C_NOC2L_%7C_ENSG00000188976_%7C_Transcript_%7C_ENST00000469563_%7C_retained_intron_%7C__%7C__%7C__%7C__%7C__%7C__%7C__%7C__%7C__%7C_rs3748597&COSM4144219_%7C_1_%7C_4967_%7C_-1_%7C__%7C_SNV_%7C_1_%7C_HGNC_%7C_24517_%7C__%7C__%7C__%7C__%7C__%7C__%7C__%7C__%7C__%7C__%7C__%7C__%7C__%7C_T:0.0773_%7C_C:0.9183_%7C_C:0.907_%7C_C:0.9193_%7C_C:0.9206_%7C_C:0.9533_%7C_C:0.9172_%7C_C:0.9058_%7C_C:0.9384_%7C_C:0.9557_%7C_C:0.935_%7C_C:0.9096_%7C_C:0.9355_%7C_C:0.9126_%7C_C:0.96_%7C_C:0.9407_%7C_C:0.9509_%7C__%7C_0&1_%7C_0&1_%7C__%7C__%7C__%7C__%7C__%7C__%7C__%7C__%7C__%7C_ATC_%7C_C_%2C_C_%7C_non_coding_transcript_exon_variant&non_coding_transcript_variant_%7C_MODIFIER_%7C_NOC2L_%7C_ENSG00000188976_%7C_Transcript_%7C_ENST00000477976_%7C_retained_intron_%7C_7/17_%7C__%7C_ENST00000477976.1:n.2345A>G_%7C__%7C_2345_%7C__%7C__%7C__%7C__%7C_rs3748597&COSM4144219_%7C_1_%7C__%7C_-1_%7C__%7C_SNV_%7C_1_%7C_HGNC_%7C_24517_%7C__%7C__%7C__%7C__%7C__%7C__%7C__%7C__%7C__%7C__%7C__%7C__%7C__%7C_T:0.0773_%7C_C:0.9183_%7C_C:0.907_%7C_C:0.9193_%7C_C:0.9206_%7C_C:0.9533_%7C_C:0.9172_%7C_C:0.9058_%7C_C:0.9384_%7C_C:0.9557_%7C_C:0.935_%7C_C:0.9096_%7C_C:0.9355_%7C_C:0.9126_%7C_C:0.96_%7C_C:0.9407_%7C_C:0.9509_%7C__%7C_0&1_%7C_0&1_%7C__%7C__%7C__%7C__%7C__%7C__%7C__%7C__%7C__%7C_ATC_%7C_C_%2C_C_%7C_downstream_gene_variant_%7C_MODIFIER_%7C_NOC2L_%7C_ENSG00000188976_%7C_Transcript_%7C_ENST00000487214_%7C_processed_transcript_%7C__%7C__%7C__%7C__%7C__%7C__%7C__%7C__%7C__%7C_rs3748597&COSM4144219_%7C_1_%7C_1147_%7C_-1_%7C__%7C_SNV_%7C_1_%7C_HGNC_%7C_24517_%7C__%7C__%7C__%7C__%7C__%7C__%7C__%7C__%7C__%7C__%7C__%7C__%7C__%7C_T:0.0773_%7C_C:0.9183_%7C_C:0.907_%7C_C:0.9193_%7C_C:0.9206_%7C_C:0.9533_%7C_C:0.9172_%7C_C:0.9058_%7C_C:0.9384_%7C_C:0.9557_%7C_C:0.935_%7C_C:0.9096_%7C_C:0.9355_%7C_C:0.9126_%7C_C:0.96_%7C_C:0.9407_%7C_C:0.9509_%7C__%7C_0&1_%7C_0&1_%7C__%7C__%7C__%7C__%7C__%7C__%7C__%7C__%7C__%7C_ATC_%7C_C|-7.500e-02|true|.|2476735|147_%7C_410_%7C_958_%7C_2713_%7C_5812_%7C_8317_%7C_9331_%7C_8507_%7C_6914_%7C_5228_%7C_3610_%7C_2468_%7C_1657_%7C_1080_%7C_722_%7C_479_%7C_333_%7C_244_%7C_179_%7C_1532_%2C_139_%7C_393_%7C_952_%7C_2710_%7C_5677_%7C_8240_%7C_9310_%7C_8501_%7C_6908_%7C_5227_%7C_3609_%7C_2467_%7C_1656_%7C_1079_%7C_722_%7C_479_%7C_333_%7C_244_%7C_179_%7C_1530|false||12059|0.9273300766944885|0.9383720755577087|1.320|38_%7C_85_%7C_80_%7C_138_%7C_198_%7C_120_%7C_253_%7C_432_%7C_303_%7C_735_%7C_1141_%7C_775_%7C_1928_%7C_2201_%7C_1329_%7C_2722_%7C_3010_%7C_1641_%7C_3181_%7C_40331_%2C_20_%7C_81_%7C_78_%7C_136_%7C_187_%7C_116_%7C_251_%7C_430_%7C_301_%7C_734_%7C_1137_%7C_773_%7C_1727_%7C_2178_%7C_1328_%7C_2722_%7C_3008_%7C_1641_%7C_3180_%7C_40327|176.09|248.86||||||||||865|482|686|251|3675|44|1230|4243|5262|912|3584|3004|29074|404|6958|0.0129|T:0|TC:0|TCA:0|4621|0.922723650932312|0.9532999992370605|||52.80|0|-8.670e-01|222|true|1|888659|AMR|true|33.24|0.258|false|false|1.99|||||MQ|false]'], 'callable': ['CS_HiSeqPE300xSentieon_callable', 'CS_CGnormal_callable', 'CS_HiSeqPE300xfreebayes_callable', 'CS_HiSeq250x250Sentieon_callable', 'CS_HiSeq250x250freebayes_callable', 'CS_IonExomeTVC_callable'], 'callsetnames': ['HiSeqPE300xSentieon', 'CGnormal', 'HiSeqPE300xfreebayes', 'HiSeq250x250Sentieon', 'HiSeq250x250freebayes', 'IonExomeTVC', 'HiSeqMatePairSentieon', 'HiSeqMatePairfreebayes'], 'callsets': ['8'], 'datasetnames': ['HiSeqPE300x', 'CGnormal', 'HiSeq250x250', 'IonExome', 'HiSeqMatePair'], 'datasets': ['5'], 'datasetsmissingcall': ['10XChromium'], 'platformnames': ['Illumina', 'CG', 'Ion'], 'platforms': ['3']}\n"
     ]
    }
   ],
   "source": [
    "print(record.CHROM)\n",
    "print(record.POS)\n",
    "print(record.ID)\n",
    "print(record.REF)\n",
    "print(record.ALT)\n",
    "print(record.QUAL)\n",
    "print(record.FILTER)\n",
    "print(record.INFO)"
   ]
  },
  {
   "cell_type": "code",
   "execution_count": 11,
   "metadata": {},
   "outputs": [
    {
     "data": {
      "text/plain": [
       "dict_keys(['FUNCOTATION', 'callable', 'callsetnames', 'callsets', 'datasetnames', 'datasets', 'datasetsmissingcall', 'platformnames', 'platforms'])"
      ]
     },
     "execution_count": 11,
     "metadata": {},
     "output_type": "execute_result"
    }
   ],
   "source": [
    "record.INFO.keys()"
   ]
  },
  {
   "cell_type": "code",
   "execution_count": 9,
   "metadata": {
    "scrolled": true
   },
   "outputs": [
    {
     "data": {
      "text/plain": [
       "{'FUNCOTATION': ['[NOC2L|hg38|chr1|953279|953279|MISSENSE||SNP|T|T|C|g.chr1:953279T>C|ENST00000327044.6|-|9|948|c.898A>G|c.(898-900)Act>Gct|p.T300A|0.6084788029925187|CTCCATACGATCACCATTCTC||||||||||||||||||||||||||||113428|9351|11006|112291|1982|7854|49671|6259||7233|52529|62620|61823|852|11006|15146|0.935|792_%7C_1197_%7C_2603_%7C_4873_%7C_5534_%7C_6771_%7C_6458_%7C_5910_%7C_5171_%7C_3545_%7C_1878_%7C_807|680_%7C_1054_%7C_2316_%7C_4293_%7C_4830_%7C_5915_%7C_5652_%7C_5151_%7C_4565_%7C_3127_%7C_1634_%7C_713|121282|10280|11516|120032|2162|8606|53050|6520|66982|65720|896|11516|16494|1.64||C_%7C_missense_variant_%7C_MODERATE_%7C_NOC2L_%7C_ENSG00000188976_%7C_Transcript_%7C_ENST00000327044_%7C_protein_coding_%7C_9/19_%7C__%7C_ENST00000327044.6:c.898A>G_%7C_ENSP00000317992.6:p.Ile300Val_%7C_948_%7C_898_%7C_300_%7C_I/V_%7C_Atc/Gtc_%7C_rs3748597&COSM4144219_%7C_1_%7C__%7C_-1_%7C__%7C_SNV_%7C_1_%7C_HGNC_%7C_24517_%7C_YES_%7C__%7C__%7C_CCDS3.1_%7C_ENSP00000317992_%7C_Q9Y3T9_%7C__%7C_UPI000041820C_%7C__%7C_tolerated(1)_%7C_benign(0)_%7C_hmmpanther:PTHR12687:SF4&hmmpanther:PTHR12687&Superfamily_domains:SSF48371_%7C__%7C_T:0.0773_%7C_C:0.9183_%7C_C:0.907_%7C_C:0.9193_%7C_C:0.9206_%7C_C:0.9533_%7C_C:0.9172_%7C_C:0.9058_%7C_C:0.9384_%7C_C:0.9557_%7C_C:0.935_%7C_C:0.9096_%7C_C:0.9355_%7C_C:0.9126_%7C_C:0.96_%7C_C:0.9407_%7C_C:0.9509_%7C__%7C_0&1_%7C_0&1_%7C__%7C__%7C__%7C__%7C__%7C__%7C__%7C__%7C__%7C_ATC_%7C_C_%2C_C_%7C_downstream_gene_variant_%7C_MODIFIER_%7C_NOC2L_%7C_ENSG00000188976_%7C_Transcript_%7C_ENST00000469563_%7C_retained_intron_%7C__%7C__%7C__%7C__%7C__%7C__%7C__%7C__%7C__%7C_rs3748597&COSM4144219_%7C_1_%7C_4967_%7C_-1_%7C__%7C_SNV_%7C_1_%7C_HGNC_%7C_24517_%7C__%7C__%7C__%7C__%7C__%7C__%7C__%7C__%7C__%7C__%7C__%7C__%7C__%7C_T:0.0773_%7C_C:0.9183_%7C_C:0.907_%7C_C:0.9193_%7C_C:0.9206_%7C_C:0.9533_%7C_C:0.9172_%7C_C:0.9058_%7C_C:0.9384_%7C_C:0.9557_%7C_C:0.935_%7C_C:0.9096_%7C_C:0.9355_%7C_C:0.9126_%7C_C:0.96_%7C_C:0.9407_%7C_C:0.9509_%7C__%7C_0&1_%7C_0&1_%7C__%7C__%7C__%7C__%7C__%7C__%7C__%7C__%7C__%7C_ATC_%7C_C_%2C_C_%7C_non_coding_transcript_exon_variant&non_coding_transcript_variant_%7C_MODIFIER_%7C_NOC2L_%7C_ENSG00000188976_%7C_Transcript_%7C_ENST00000477976_%7C_retained_intron_%7C_7/17_%7C__%7C_ENST00000477976.1:n.2345A>G_%7C__%7C_2345_%7C__%7C__%7C__%7C__%7C_rs3748597&COSM4144219_%7C_1_%7C__%7C_-1_%7C__%7C_SNV_%7C_1_%7C_HGNC_%7C_24517_%7C__%7C__%7C__%7C__%7C__%7C__%7C__%7C__%7C__%7C__%7C__%7C__%7C__%7C_T:0.0773_%7C_C:0.9183_%7C_C:0.907_%7C_C:0.9193_%7C_C:0.9206_%7C_C:0.9533_%7C_C:0.9172_%7C_C:0.9058_%7C_C:0.9384_%7C_C:0.9557_%7C_C:0.935_%7C_C:0.9096_%7C_C:0.9355_%7C_C:0.9126_%7C_C:0.96_%7C_C:0.9407_%7C_C:0.9509_%7C__%7C_0&1_%7C_0&1_%7C__%7C__%7C__%7C__%7C__%7C__%7C__%7C__%7C__%7C_ATC_%7C_C_%2C_C_%7C_downstream_gene_variant_%7C_MODIFIER_%7C_NOC2L_%7C_ENSG00000188976_%7C_Transcript_%7C_ENST00000487214_%7C_processed_transcript_%7C__%7C__%7C__%7C__%7C__%7C__%7C__%7C__%7C__%7C_rs3748597&COSM4144219_%7C_1_%7C_1147_%7C_-1_%7C__%7C_SNV_%7C_1_%7C_HGNC_%7C_24517_%7C__%7C__%7C__%7C__%7C__%7C__%7C__%7C__%7C__%7C__%7C__%7C__%7C__%7C_T:0.0773_%7C_C:0.9183_%7C_C:0.907_%7C_C:0.9193_%7C_C:0.9206_%7C_C:0.9533_%7C_C:0.9172_%7C_C:0.9058_%7C_C:0.9384_%7C_C:0.9557_%7C_C:0.935_%7C_C:0.9096_%7C_C:0.9355_%7C_C:0.9126_%7C_C:0.96_%7C_C:0.9407_%7C_C:0.9509_%7C__%7C_0&1_%7C_0&1_%7C__%7C__%7C__%7C__%7C__%7C__%7C__%7C__%7C__%7C_ATC_%7C_C|-7.500e-02|true|.|2476735|147_%7C_410_%7C_958_%7C_2713_%7C_5812_%7C_8317_%7C_9331_%7C_8507_%7C_6914_%7C_5228_%7C_3610_%7C_2468_%7C_1657_%7C_1080_%7C_722_%7C_479_%7C_333_%7C_244_%7C_179_%7C_1532_%2C_139_%7C_393_%7C_952_%7C_2710_%7C_5677_%7C_8240_%7C_9310_%7C_8501_%7C_6908_%7C_5227_%7C_3609_%7C_2467_%7C_1656_%7C_1079_%7C_722_%7C_479_%7C_333_%7C_244_%7C_179_%7C_1530|false||12059|0.9273300766944885|0.9383720755577087|1.320|38_%7C_85_%7C_80_%7C_138_%7C_198_%7C_120_%7C_253_%7C_432_%7C_303_%7C_735_%7C_1141_%7C_775_%7C_1928_%7C_2201_%7C_1329_%7C_2722_%7C_3010_%7C_1641_%7C_3181_%7C_40331_%2C_20_%7C_81_%7C_78_%7C_136_%7C_187_%7C_116_%7C_251_%7C_430_%7C_301_%7C_734_%7C_1137_%7C_773_%7C_1727_%7C_2178_%7C_1328_%7C_2722_%7C_3008_%7C_1641_%7C_3180_%7C_40327|176.09|248.86||||||||||865|482|686|251|3675|44|1230|4243|5262|912|3584|3004|29074|404|6958|0.0129|T:0|TC:0|TCA:0|4621|0.922723650932312|0.9532999992370605|||52.80|0|-8.670e-01|222|true|1|888659|AMR|true|33.24|0.258|false|false|1.99|||||MQ|false]'],\n",
       " 'callable': ['CS_HiSeqPE300xSentieon_callable',\n",
       "  'CS_CGnormal_callable',\n",
       "  'CS_HiSeqPE300xfreebayes_callable',\n",
       "  'CS_HiSeq250x250Sentieon_callable',\n",
       "  'CS_HiSeq250x250freebayes_callable',\n",
       "  'CS_IonExomeTVC_callable'],\n",
       " 'callsetnames': ['HiSeqPE300xSentieon',\n",
       "  'CGnormal',\n",
       "  'HiSeqPE300xfreebayes',\n",
       "  'HiSeq250x250Sentieon',\n",
       "  'HiSeq250x250freebayes',\n",
       "  'IonExomeTVC',\n",
       "  'HiSeqMatePairSentieon',\n",
       "  'HiSeqMatePairfreebayes'],\n",
       " 'callsets': ['8'],\n",
       " 'datasetnames': ['HiSeqPE300x',\n",
       "  'CGnormal',\n",
       "  'HiSeq250x250',\n",
       "  'IonExome',\n",
       "  'HiSeqMatePair'],\n",
       " 'datasets': ['5'],\n",
       " 'datasetsmissingcall': ['10XChromium'],\n",
       " 'platformnames': ['Illumina', 'CG', 'Ion'],\n",
       " 'platforms': ['3']}"
      ]
     },
     "execution_count": 9,
     "metadata": {},
     "output_type": "execute_result"
    }
   ],
   "source": [
    "record.INFO"
   ]
  },
  {
   "cell_type": "code",
   "execution_count": 13,
   "metadata": {},
   "outputs": [
    {
     "data": {
      "text/plain": [
       "['3']"
      ]
     },
     "execution_count": 13,
     "metadata": {},
     "output_type": "execute_result"
    }
   ],
   "source": [
    "record.INFO.get('platforms')"
   ]
  },
  {
   "cell_type": "code",
   "execution_count": 15,
   "metadata": {},
   "outputs": [
    {
     "data": {
      "text/plain": [
       "list"
      ]
     },
     "execution_count": 15,
     "metadata": {},
     "output_type": "execute_result"
    }
   ],
   "source": [
    "type(record.INFO.get('FUNCOTATION'))"
   ]
  },
  {
   "cell_type": "code",
   "execution_count": 19,
   "metadata": {},
   "outputs": [
    {
     "data": {
      "text/plain": [
       "'[NOC2L|hg38|chr1|953279|953279|MISSENSE||SNP|T|T|C|g.chr1:953279T>C|ENST00000327044.6|-|9|948|c.898A>G|c.(898-900)Act>Gct|p.T300A|0.6084788029925187|CTCCATACGATCACCATTCTC||||||||||||||||||||||||||||113428|9351|11006|112291|1982|7854|49671|6259||7233|52529|62620|61823|852|11006|15146|0.935|792_%7C_1197_%7C_2603_%7C_4873_%7C_5534_%7C_6771_%7C_6458_%7C_5910_%7C_5171_%7C_3545_%7C_1878_%7C_807|680_%7C_1054_%7C_2316_%7C_4293_%7C_4830_%7C_5915_%7C_5652_%7C_5151_%7C_4565_%7C_3127_%7C_1634_%7C_713|121282|10280|11516|120032|2162|8606|53050|6520|66982|65720|896|11516|16494|1.64||C_%7C_missense_variant_%7C_MODERATE_%7C_NOC2L_%7C_ENSG00000188976_%7C_Transcript_%7C_ENST00000327044_%7C_protein_coding_%7C_9/19_%7C__%7C_ENST00000327044.6:c.898A>G_%7C_ENSP00000317992.6:p.Ile300Val_%7C_948_%7C_898_%7C_300_%7C_I/V_%7C_Atc/Gtc_%7C_rs3748597&COSM4144219_%7C_1_%7C__%7C_-1_%7C__%7C_SNV_%7C_1_%7C_HGNC_%7C_24517_%7C_YES_%7C__%7C__%7C_CCDS3.1_%7C_ENSP00000317992_%7C_Q9Y3T9_%7C__%7C_UPI000041820C_%7C__%7C_tolerated(1)_%7C_benign(0)_%7C_hmmpanther:PTHR12687:SF4&hmmpanther:PTHR12687&Superfamily_domains:SSF48371_%7C__%7C_T:0.0773_%7C_C:0.9183_%7C_C:0.907_%7C_C:0.9193_%7C_C:0.9206_%7C_C:0.9533_%7C_C:0.9172_%7C_C:0.9058_%7C_C:0.9384_%7C_C:0.9557_%7C_C:0.935_%7C_C:0.9096_%7C_C:0.9355_%7C_C:0.9126_%7C_C:0.96_%7C_C:0.9407_%7C_C:0.9509_%7C__%7C_0&1_%7C_0&1_%7C__%7C__%7C__%7C__%7C__%7C__%7C__%7C__%7C__%7C_ATC_%7C_C_%2C_C_%7C_downstream_gene_variant_%7C_MODIFIER_%7C_NOC2L_%7C_ENSG00000188976_%7C_Transcript_%7C_ENST00000469563_%7C_retained_intron_%7C__%7C__%7C__%7C__%7C__%7C__%7C__%7C__%7C__%7C_rs3748597&COSM4144219_%7C_1_%7C_4967_%7C_-1_%7C__%7C_SNV_%7C_1_%7C_HGNC_%7C_24517_%7C__%7C__%7C__%7C__%7C__%7C__%7C__%7C__%7C__%7C__%7C__%7C__%7C__%7C_T:0.0773_%7C_C:0.9183_%7C_C:0.907_%7C_C:0.9193_%7C_C:0.9206_%7C_C:0.9533_%7C_C:0.9172_%7C_C:0.9058_%7C_C:0.9384_%7C_C:0.9557_%7C_C:0.935_%7C_C:0.9096_%7C_C:0.9355_%7C_C:0.9126_%7C_C:0.96_%7C_C:0.9407_%7C_C:0.9509_%7C__%7C_0&1_%7C_0&1_%7C__%7C__%7C__%7C__%7C__%7C__%7C__%7C__%7C__%7C_ATC_%7C_C_%2C_C_%7C_non_coding_transcript_exon_variant&non_coding_transcript_variant_%7C_MODIFIER_%7C_NOC2L_%7C_ENSG00000188976_%7C_Transcript_%7C_ENST00000477976_%7C_retained_intron_%7C_7/17_%7C__%7C_ENST00000477976.1:n.2345A>G_%7C__%7C_2345_%7C__%7C__%7C__%7C__%7C_rs3748597&COSM4144219_%7C_1_%7C__%7C_-1_%7C__%7C_SNV_%7C_1_%7C_HGNC_%7C_24517_%7C__%7C__%7C__%7C__%7C__%7C__%7C__%7C__%7C__%7C__%7C__%7C__%7C__%7C_T:0.0773_%7C_C:0.9183_%7C_C:0.907_%7C_C:0.9193_%7C_C:0.9206_%7C_C:0.9533_%7C_C:0.9172_%7C_C:0.9058_%7C_C:0.9384_%7C_C:0.9557_%7C_C:0.935_%7C_C:0.9096_%7C_C:0.9355_%7C_C:0.9126_%7C_C:0.96_%7C_C:0.9407_%7C_C:0.9509_%7C__%7C_0&1_%7C_0&1_%7C__%7C__%7C__%7C__%7C__%7C__%7C__%7C__%7C__%7C_ATC_%7C_C_%2C_C_%7C_downstream_gene_variant_%7C_MODIFIER_%7C_NOC2L_%7C_ENSG00000188976_%7C_Transcript_%7C_ENST00000487214_%7C_processed_transcript_%7C__%7C__%7C__%7C__%7C__%7C__%7C__%7C__%7C__%7C_rs3748597&COSM4144219_%7C_1_%7C_1147_%7C_-1_%7C__%7C_SNV_%7C_1_%7C_HGNC_%7C_24517_%7C__%7C__%7C__%7C__%7C__%7C__%7C__%7C__%7C__%7C__%7C__%7C__%7C__%7C_T:0.0773_%7C_C:0.9183_%7C_C:0.907_%7C_C:0.9193_%7C_C:0.9206_%7C_C:0.9533_%7C_C:0.9172_%7C_C:0.9058_%7C_C:0.9384_%7C_C:0.9557_%7C_C:0.935_%7C_C:0.9096_%7C_C:0.9355_%7C_C:0.9126_%7C_C:0.96_%7C_C:0.9407_%7C_C:0.9509_%7C__%7C_0&1_%7C_0&1_%7C__%7C__%7C__%7C__%7C__%7C__%7C__%7C__%7C__%7C_ATC_%7C_C|-7.500e-02|true|.|2476735|147_%7C_410_%7C_958_%7C_2713_%7C_5812_%7C_8317_%7C_9331_%7C_8507_%7C_6914_%7C_5228_%7C_3610_%7C_2468_%7C_1657_%7C_1080_%7C_722_%7C_479_%7C_333_%7C_244_%7C_179_%7C_1532_%2C_139_%7C_393_%7C_952_%7C_2710_%7C_5677_%7C_8240_%7C_9310_%7C_8501_%7C_6908_%7C_5227_%7C_3609_%7C_2467_%7C_1656_%7C_1079_%7C_722_%7C_479_%7C_333_%7C_244_%7C_179_%7C_1530|false||12059|0.9273300766944885|0.9383720755577087|1.320|38_%7C_85_%7C_80_%7C_138_%7C_198_%7C_120_%7C_253_%7C_432_%7C_303_%7C_735_%7C_1141_%7C_775_%7C_1928_%7C_2201_%7C_1329_%7C_2722_%7C_3010_%7C_1641_%7C_3181_%7C_40331_%2C_20_%7C_81_%7C_78_%7C_136_%7C_187_%7C_116_%7C_251_%7C_430_%7C_301_%7C_734_%7C_1137_%7C_773_%7C_1727_%7C_2178_%7C_1328_%7C_2722_%7C_3008_%7C_1641_%7C_3180_%7C_40327|176.09|248.86||||||||||865|482|686|251|3675|44|1230|4243|5262|912|3584|3004|29074|404|6958|0.0129|T:0|TC:0|TCA:0|4621|0.922723650932312|0.9532999992370605|||52.80|0|-8.670e-01|222|true|1|888659|AMR|true|33.24|0.258|false|false|1.99|||||MQ|false]'"
      ]
     },
     "execution_count": 19,
     "metadata": {},
     "output_type": "execute_result"
    }
   ],
   "source": [
    "record.INFO.get('FUNCOTATION')[0]"
   ]
  },
  {
   "cell_type": "code",
   "execution_count": null,
   "metadata": {},
   "outputs": [],
   "source": []
  }
 ],
 "metadata": {
  "kernelspec": {
   "display_name": "Python 3",
   "language": "python",
   "name": "python3"
  },
  "language_info": {
   "codemirror_mode": {
    "name": "ipython",
    "version": 3
   },
   "file_extension": ".py",
   "mimetype": "text/x-python",
   "name": "python",
   "nbconvert_exporter": "python",
   "pygments_lexer": "ipython3",
   "version": "3.6.9"
  }
 },
 "nbformat": 4,
 "nbformat_minor": 2
}
