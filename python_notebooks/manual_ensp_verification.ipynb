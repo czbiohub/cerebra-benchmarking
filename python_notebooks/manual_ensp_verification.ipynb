{
 "cells": [
  {
   "cell_type": "code",
   "execution_count": null,
   "metadata": {},
   "outputs": [],
   "source": [
    "''' get the \"ground truth\" set of ENSPs that should be produced by funco/\n",
    "    cereb for a given variant, randomly extracted from a raw vcf file '''"
   ]
  },
  {
   "cell_type": "code",
   "execution_count": 89,
   "metadata": {},
   "outputs": [],
   "source": [
    "import vcfpy\n",
    "import pandas as pd\n",
    "pd.set_option('display.max_rows', 999)"
   ]
  },
  {
   "cell_type": "code",
   "execution_count": 90,
   "metadata": {},
   "outputs": [],
   "source": [
    "def trim_funco_vcf(read_path, write_path):\n",
    "    ''' gets rid of all the nonesense cerebra doesnt pick up '''\n",
    "    reader = vcfpy.Reader.from_path(read_path)\n",
    "    writer = vcfpy.Writer.from_path(write_path, reader.header)\n",
    "    unwanted_class = ['COULD_NOT_DETERMINE', 'INTRON', 'FIVE_PRIME_UTR', \n",
    "                      'THREE_PRIME_UTR', 'IGR', 'FIVE_PRIME_FLANK', 'THREE_PRIME_FLANK', 'LINCRNA']\n",
    "\n",
    "    for record in reader:\n",
    "        funco = record.INFO.get('FUNCOTATION')[0]\n",
    "    \n",
    "        keep = True\n",
    "        for elm in unwanted_class:\n",
    "            if elm in funco:\n",
    "                keep = False\n",
    "    \n",
    "        if keep:\n",
    "            writer.write_record(record)"
   ]
  },
  {
   "cell_type": "code",
   "execution_count": 91,
   "metadata": {},
   "outputs": [],
   "source": [
    "def get_indicies(pos, sorted_gtf):\n",
    "    ''' get overlapping indicies from the gtf file '''\n",
    "    keep_index_list = []\n",
    "    for idx, row in sorted_gtf.iterrows():\n",
    "        if row.start <= pos and row.end >= pos:\n",
    "            keep_index_list.append(idx)\n",
    "            \n",
    "    return(keep_index_list)"
   ]
  },
  {
   "cell_type": "code",
   "execution_count": 92,
   "metadata": {},
   "outputs": [],
   "source": [
    "def get_ensp_ids(indicies, sorted_gtf):\n",
    "    ''' get the ENSP ids from the overlapping indicies in the gtf file '''\n",
    "    sorted_gtf_trim = sorted_gtf.iloc[indicies]\n",
    "    sorted_gtf_trim = sorted_gtf_trim.reset_index(drop=True)\n",
    "    \n",
    "    pids = []\n",
    "    for idx, row in sorted_gtf_trim.iterrows():\n",
    "        attr = row.attribute\n",
    "        if 'protein_id' in attr:\n",
    "            pid = attr.split('protein_id')[1].split(';')[0] # this is janky \n",
    "            pid_strip = pid.split('\"')[1]\n",
    "            pids.append(pid_strip)\n",
    "    \n",
    "    pids_split = [x.split('.')[0] for x in pids]\n",
    "    ret = set(pids_split)\n",
    "    \n",
    "    return(ret)"
   ]
  },
  {
   "cell_type": "code",
   "execution_count": 93,
   "metadata": {},
   "outputs": [
    {
     "name": "stdout",
     "output_type": "stream",
     "text": [
      "##contig=<ID=chr1_KI270707v1_random,length=32032>\r\n"
     ]
    }
   ],
   "source": [
    "''' MAIN STARTS HERE '''\n",
    "# create trimmed funco vcf file\n",
    "trim_funco_vcf('../tmp/G10_1001000340_benchmark.vcf', '../tmp/G10_1001000340_funco_trimmed.vcf')\n",
    "\n",
    "# pull out a random line\n",
    "! gshuf -n 1 ../tmp/G10_1001000340_funco_trimmed.vcf"
   ]
  },
  {
   "cell_type": "code",
   "execution_count": 94,
   "metadata": {},
   "outputs": [
    {
     "name": "stdout",
     "output_type": "stream",
     "text": [
      "chr22\t43162920\t.\tA\tG\t1936.03\t.\tAC=2;AF=1.00;AN=2;DP=49;ExcessHet=3.0103;FS=0.000;MLEAC=2;MLEAF=1.00;MQ=NaN;QD=30.24;SOR=1.473\tGT:AD:DP:GQ:PL\t1/1:0,49:49:99:1950,147,0\r\n"
     ]
    }
   ],
   "source": [
    "# make sure its in the raw vcf\n",
    "! grep '43162920' ../tmp/G10_1001000340.vcf"
   ]
  },
  {
   "cell_type": "code",
   "execution_count": 95,
   "metadata": {},
   "outputs": [],
   "source": [
    "# subset the gtf file by gene name\n",
    "! grep 'TSPO' /Users/lincoln.harris/code/cerebra/cerebra/tmp/ref/gencode.v27.chr_patch_hapl_scaff.basic.annotation.gtf > ../tmp/gene_sub.gtf"
   ]
  },
  {
   "cell_type": "code",
   "execution_count": 96,
   "metadata": {},
   "outputs": [
    {
     "name": "stdout",
     "output_type": "stream",
     "text": [
      "{'ENSP00000379563.4', 'ENSP00000345824.4', 'ENSP00000328973.4', 'ENSP00000268893.6', 'ENSP00000362252.2', 'ENSP00000362255.1', 'ENSP00000419985.1', 'ENSP00000463495.1', 'ENSP00000338004.3'}\n"
     ]
    }
   ],
   "source": [
    "# get PIDs for the randomized position \n",
    "chrom = 22\n",
    "pos = 43162920\n",
    "\n",
    "sub_gtf = pd.read_csv('../tmp/gene_sub.gtf', sep='\\t', \n",
    "            names=['chr', 'source', 'feature', 'start', 'end', 'score', 'strand', 'frame', 'attribute'])\n",
    "sub_gtf_sorted = sub_gtf.sort_values('start')\n",
    "sub_gtf_sorted = sub_gtf_sorted.reset_index(drop=True)\n",
    "\n",
    "index_l = get_indicies(pos, sub_gtf_sorted)\n",
    "ensp_l = get_ensp_ids(index_l, sub_gtf_sorted)\n",
    "ensp_l = set(ensp_l)\n",
    "\n",
    "print(ensp_l)"
   ]
  },
  {
   "cell_type": "code",
   "execution_count": 63,
   "metadata": {},
   "outputs": [],
   "source": [
    "#///////////////////////////////////////////////////////////////////////////////////\n",
    "#///////////////////////////////////////////////////////////////////////////////////\n",
    "#///////////////////////////////////////////////////////////////////////////////////"
   ]
  },
  {
   "cell_type": "code",
   "execution_count": 73,
   "metadata": {},
   "outputs": [
    {
     "name": "stdout",
     "output_type": "stream",
     "text": [
      "TSPO,\"['ENSP00000379563.4:p.(Ala134Thr)', 'ENSP00000338004.3:p.(Met60Leu)', 'ENSP00000328973.4:p.(Ala134Thr)', 'ENSP00000328973.4:p.(Arg135=)', 'ENSP00000328973.4:p.(Glu76Ala)', 'ENSP00000405685.1:p.(Met60Leu)', 'ENSP00000405685.1:p.(Glu76Ala)', 'ENSP00000338004.3:p.(Ala134Thr)', 'ENSP00000379563.4:p.(Arg135=)', 'ENSP00000338004.3:p.(Thr147Ala)', 'ENSP00000379563.4:p.(Glu76Ala)', 'ENSP00000463495.1:p.(Arg31=)', 'ENSP00000463495.1:p.(Ala30Thr)', 'ENSP00000379563.4:p.(Thr147Ala)', 'ENSP00000338004.3:p.(Glu76Ala)', 'ENSP00000328973.4:p.(Thr147Ala)', 'ENSP00000328973.4:p.(Met60Leu)', 'ENSP00000463495.1:p.(Thr43Ala)', 'ENSP00000338004.3:p.(Arg135=)', 'ENSP00000379563.4:p.(Met60Leu)']\"\r\n"
     ]
    }
   ],
   "source": [
    "# now lets find out what cereb found\n",
    "    # cerebra missing like a lot of these...(looking at PIDs in ensp_l)\n",
    "! grep 'ENSP00000338004' ../tmp/cereb_G10_1001000340_sub.csv"
   ]
  },
  {
   "cell_type": "code",
   "execution_count": 62,
   "metadata": {
    "scrolled": true
   },
   "outputs": [
    {
     "name": "stdout",
     "output_type": "stream",
     "text": [
      "chr22\t43159416\t.\tA\tC\t183.60\t.\tAC=1;AF=0.500;AN=2;DP=45;ExcessHet=3.0103;FS=4.570;FUNCOTATION=[TSPO|hg38|chr22|43159416|43159416|MISSENSE||SNP|A|A|C|g.chr22:43159416A>C|ENST00000329563.8|+|2|404|c.178A>C|c.(178-180)Att>Ctt|p.I60L|0.683291770573566|CTACTCAGCCATGGGGTAGGT|TSPO_ENST00000337554.7_MISSENSE_p.I60L/TSPO_ENST00000583777.5_INTRON/TSPO_ENST00000396265.4_MISSENSE_p.T60P|||||||||||||||||||||||||||||false||];MLEAC=1;MLEAF=0.500;MQ=NaN;QD=4.08;SOR=0.140\tGT:AD:DP:GQ:PL\t0/1:37,8:45:99:191,0,1322\r\n",
      "chr22\t43161096\t.\tA\tC\t429.60\t.\tAC=1;AF=0.500;AN=2;DP=44;ExcessHet=3.0103;FS=5.497;FUNCOTATION=[TSPO|hg38|chr22|43161096|43161096|MISSENSE||SNP|A|A|C|g.chr22:43161096A>C|ENST00000329563.8|+|3|453|c.227A>C|c.(226-228)cAt>cCt|p.H76P|0.5785536159600998|GGCTTCACAGAGAAGGCTGTG|TSPO_ENST00000337554.7_MISSENSE_p.D76A/TSPO_ENST00000583777.5_FIVE_PRIME_UTR/TSPO_ENST00000396265.4_MISSENSE_p.D76A|||||||||||||||||||||||||||||false||];MLEAC=1;MLEAF=0.500;MQ=NaN;QD=9.76;SOR=1.817\tGT:AD:DP:GQ:PL\t0/1:30,14:44:99:437,0,1001\r\n",
      "chr22\t43162881\t.\tG\tA\t392.60\t.\tAC=1;AF=0.500;AN=2;DP=50;ExcessHet=3.0103;FS=6.397;FUNCOTATION=[TSPO|hg38|chr22|43162881|43162881|MISSENSE||SNP|G|G|A|g.chr22:43162881G>A|ENST00000329563.8|+|4|626|c.400G>A|c.(400-402)Ggc>Agc|p.G134S|0.6633416458852868|CCCGCTGGCCGCCCGCCTGCT|TSPO_ENST00000337554.7_MISSENSE_p.A134T/TSPO_ENST00000583777.5_MISSENSE_p.G30R/TSPO_ENST00000396265.4_MISSENSE_p.E134K|||||||||||||||||||||||||||||false||];MLEAC=1;MLEAF=0.500;MQ=NaN;QD=7.85;SOR=0.410\tGT:AD:DP:GQ:PL\t0/1:33,17:50:99:400,0,1185\r\n",
      "chr22\t43162886\t.\tC\tT\t1786.03\t.\tAC=2;AF=1.00;AN=2;DP=54;ExcessHet=3.0103;FS=0.000;FUNCOTATION=[TSPO|hg38|chr22|43162886|43162886|SILENT||SNP|C|C|T|g.chr22:43162886C>T|ENST00000329563.8|+|4|631|c.405C>T|c.(403-405)caC>caT|p.H135H|0.6608478802992519|TGGCCGCCCGCCTGCTCTACC|TSPO_ENST00000337554.7_SILENT_p.C135C/TSPO_ENST00000583777.5_SILENT_p.D31D/TSPO_ENST00000396265.4_SILENT_p.G135G|||||||||||||||||||||||||||||false||];MLEAC=2;MLEAF=1.00;MQ=NaN;QD=33.07;SOR=1.329\tGT:AD:DP:GQ:PL\t1/1:0,54:54:99:1800,157,0\r\n",
      "chr22\t43162920\t.\tA\tG\t1936.03\t.\tAC=2;AF=1.00;AN=2;DP=49;ExcessHet=3.0103;FS=0.000;FUNCOTATION=[TSPO|hg38|chr22|43162920|43162920|MISSENSE||SNP|A|A|G|g.chr22:43162920A>G|ENST00000329563.8|+|4|665|c.439A>G|c.(439-441)Agg>Ggg|p.R147G|0.6658354114713217|GCTGGCCTTCACGACCACACT|TSPO_ENST00000337554.7_MISSENSE_p.R147G/TSPO_ENST00000583777.5_MISSENSE_p.T43A/TSPO_ENST00000396265.4_MISSENSE_p.R147G|||||||||||||||||||||||||||||false||];MLEAC=2;MLEAF=1.00;MQ=NaN;QD=30.24;SOR=1.473\tGT:AD:DP:GQ:PL\t1/1:0,49:49:99:1950,147,0\r\n",
      "chr22\t43163147\t.\tC\tT\t286.60\t.\tAC=1;AF=0.500;AN=2;DP=37;ExcessHet=3.0103;FS=0.000;FUNCOTATION=[TSPO|hg38|chr22|43163147|43163147|THREE_PRIME_UTR||SNP|C|C|T|g.chr22:43163147C>T|ENST00000329563.8|+|4|||||0.6034912718204489|ACCTGAGCCCCCACCCGGGAG|TSPO_ENST00000337554.7_THREE_PRIME_UTR/TSPO_ENST00000583777.5_THREE_PRIME_UTR/TSPO_ENST00000396265.4_THREE_PRIME_UTR|||||||||||||||||||||||||||||false||];MLEAC=1;MLEAF=0.500;MQ=3.00;QD=8.19;SOR=0.165\tGT:AD:DP:GQ:PL\t0/1:25,10:35:99:294,0,906\r\n"
     ]
    }
   ],
   "source": [
    "# ok what does funco actually have? \n",
    "    # these are ENSP -> ENST converted IDs from BioMart\n",
    "    \n",
    "    # ok so funco actually missing quite a few of these as well \n",
    "enst_convert_list = ['ENST00000268893', 'ENST00000329563', 'ENST00000337554', 'ENST00000343736', \n",
    "                     'ENST00000373158', 'ENST00000373161', 'ENST00000396265', 'ENST00000470917', \n",
    "                     'ENST00000583777']\n",
    "\n",
    "! grep 'ENST00000583777' ../tmp/G10_1001000340_benchmark.vcf "
   ]
  }
 ],
 "metadata": {
  "kernelspec": {
   "display_name": "Python 3",
   "language": "python",
   "name": "python3"
  },
  "language_info": {
   "codemirror_mode": {
    "name": "ipython",
    "version": 3
   },
   "file_extension": ".py",
   "mimetype": "text/x-python",
   "name": "python",
   "nbconvert_exporter": "python",
   "pygments_lexer": "ipython3",
   "version": "3.6.10"
  }
 },
 "nbformat": 4,
 "nbformat_minor": 2
}
