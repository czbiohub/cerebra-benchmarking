{
 "cells": [
  {
   "cell_type": "code",
   "execution_count": null,
   "metadata": {},
   "outputs": [],
   "source": [
    "''' formalizes the process of creating these ENSP only files '''"
   ]
  },
  {
   "cell_type": "code",
   "execution_count": 8,
   "metadata": {},
   "outputs": [],
   "source": [
    "import pandas as pd\n",
    "import os"
   ]
  },
  {
   "cell_type": "code",
   "execution_count": 14,
   "metadata": {},
   "outputs": [],
   "source": [
    "def initial_vcf_filter(readpath, writepath):\n",
    "    '''keep only the lines that contain ENSP'''\n",
    "\n",
    "    with open(readpath, 'r') as rp:\n",
    "        with open(writepath, 'w') as wp:\n",
    "            lines = rp.readlines()\n",
    "            for line in lines:\n",
    "                if 'ENSP' in line:\n",
    "                    wp.write(line)\n",
    "                \n",
    "        wp.close()\n",
    "    rp.close()\n",
    "    \n",
    "    return "
   ]
  },
  {
   "cell_type": "code",
   "execution_count": 15,
   "metadata": {},
   "outputs": [],
   "source": [
    "def filter_variant_features(readpath, writepath):\n",
    "    '''filter out the variant features we're not picking up''' \n",
    "\n",
    "    deplorables = ['|IGR|', '|FIVE_PRIME_UTR|', '|THREE_PRIME_UTR|', '|FIVE_PRIME_FLANK|', \n",
    "                   '|THREE_PRIME_FLANK|', '|COULD_NOT_DETERMINE|', '|SILENT|'] # does cerebra keep silent? \n",
    "    keep_lines = 0\n",
    "    not_keep_lines = 0\n",
    "\n",
    "    with open(readpath, 'r') as rp:\n",
    "        with open(writepath, 'w') as wp:\n",
    "            lines = rp.readlines()\n",
    "            for line in lines:\n",
    "                if any(ele in line for ele in deplorables): # filter all deplorables\n",
    "                #if '|IGR|' in line: # filter out intergenic regions\n",
    "                #if 'foobar' in line: # dont filter out anything\n",
    "                    not_keep_lines += 1\n",
    "                else:\n",
    "                    keep_lines += 1\n",
    "                    wp.write(line)\n",
    "                \n",
    "        wp.close()\n",
    "    rp.close()\n",
    "    \n",
    "    return"
   ]
  },
  {
   "cell_type": "code",
   "execution_count": 16,
   "metadata": {},
   "outputs": [],
   "source": [
    "def grep_proper_tags(readpath, writepath):\n",
    "    '''pull out and filter ENSP tags'''\n",
    "    \n",
    "    # pull out just the ENSP tags\n",
    "    rp0 = readpath\n",
    "    wp0 = writepath\n",
    "    cmd0 = 'grep -E -o \"ENSP.{0,20}\" ' + rp0 + ' > '+ wp0\n",
    "    os.system(cmd0)\n",
    "    \n",
    "    # and now get just the ENSP tags with '.p' in them\n",
    "    rp1 = wp0\n",
    "    wp1 = rp1.rstrip('.vcf') + '_filt.vcf'\n",
    "    #cmd1 = \"grep ':p.' \" + rp1 + ' > ' + wp1 # do filter\n",
    "    cmd1 = \"grep 'ENSP' \" + rp1 + ' > ' + wp1 # dont do filter\n",
    "    os.system(cmd1)\n",
    "    \n",
    "    # and finally, keep only the ENSP trunk labels\n",
    "    rp2 = wp1\n",
    "    wp2 = rp2.rstrip('.vcf') + '_final.vcf'\n",
    "    cmd2 = 'grep -E -o \"ENSP.{0,11}\" ' + rp2 + ' > ' + wp2\n",
    "    os.system(cmd2)\n",
    "    \n",
    "    return"
   ]
  },
  {
   "cell_type": "code",
   "execution_count": 17,
   "metadata": {},
   "outputs": [],
   "source": [
    "basepath = '../funco_bench_raw/'\n",
    "\n",
    "for file in os.listdir(basepath):\n",
    "    fullpath = basepath + file\n",
    "    \n",
    "    rp0 = fullpath\n",
    "    wp0 = fullpath.rstrip('.vcf') + '_ensp.vcf'\n",
    "    initial_vcf_filter(rp0, wp0)\n",
    "    \n",
    "    rp1 = wp0\n",
    "    wp1 = rp1.rstrip('.vcf') + '_clean.vcf'\n",
    "    filter_variant_features(rp1, wp1)\n",
    "    \n",
    "    rp2 = wp1\n",
    "    wp2 = rp2.rstrip('.vcf') + '_only.vcf'\n",
    "    grep_proper_tags(rp2, wp2)"
   ]
  },
  {
   "cell_type": "code",
   "execution_count": 18,
   "metadata": {},
   "outputs": [],
   "source": [
    "! mv ../funco_bench_raw/*ensp* ../funco_bench_ensp_tags/"
   ]
  },
  {
   "cell_type": "code",
   "execution_count": null,
   "metadata": {},
   "outputs": [],
   "source": []
  }
 ],
 "metadata": {
  "kernelspec": {
   "display_name": "Python 3",
   "language": "python",
   "name": "python3"
  },
  "language_info": {
   "codemirror_mode": {
    "name": "ipython",
    "version": 3
   },
   "file_extension": ".py",
   "mimetype": "text/x-python",
   "name": "python",
   "nbconvert_exporter": "python",
   "pygments_lexer": "ipython3",
   "version": "3.7.3"
  }
 },
 "nbformat": 4,
 "nbformat_minor": 2
}
