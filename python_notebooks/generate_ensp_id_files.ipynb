{
 "cells": [
  {
   "cell_type": "code",
   "execution_count": null,
   "metadata": {},
   "outputs": [],
   "source": [
    "''' want to formalize the process of creating these ENSP only files '''"
   ]
  },
  {
   "cell_type": "code",
   "execution_count": 5,
   "metadata": {},
   "outputs": [],
   "source": [
    "import pandas as pd"
   ]
  },
  {
   "cell_type": "code",
   "execution_count": 15,
   "metadata": {},
   "outputs": [],
   "source": [
    "# keep only the lines that contain 'ENSP'\n",
    "readpath = '../funco_bench_raw/ash_father_benchmark.vcf'\n",
    "writepath = '../funco_bench_ensp_tags/ash_father_ensp.vcf'\n",
    "\n",
    "with open(readpath, 'r') as rp:\n",
    "    with open(writepath, 'w') as wp:\n",
    "        lines = rp.readlines()\n",
    "        for line in lines:\n",
    "            if 'ENSP' in line:\n",
    "                wp.write(line)\n",
    "                \n",
    "    wp.close()\n",
    "rp.close()    "
   ]
  },
  {
   "cell_type": "code",
   "execution_count": 16,
   "metadata": {},
   "outputs": [],
   "source": [
    "# filter out the variant features we're not picking up \n",
    "readpath = '../funco_bench_ensp_tags/ash_father_ensp.vcf'\n",
    "writepath = '../funco_bench_ensp_tags/ash_father_ensp_clean.vcf'\n",
    "\n",
    "deplorables = ['|IGR|', '|FIVE_PRIME_UTR|', '|THREE_PRIME_UTR|', '|FIVE_PRIME_FLANK|', '|THREE_PRIME_FLANK|',\n",
    "              '|COULD_NOT_DETERMINE|', '|SILENT|'] # does cerebra keep silent? \n",
    "keep_lines = 0\n",
    "not_keep_lines = 0\n",
    "\n",
    "with open(readpath, 'r') as rp:\n",
    "    with open(writepath, 'w') as wp:\n",
    "        lines = rp.readlines()\n",
    "        for line in lines:\n",
    "            if any(ele in line for ele in deplorables):\n",
    "                not_keep_lines += 1\n",
    "            else:\n",
    "                keep_lines += 1\n",
    "                wp.write(line)\n",
    "                \n",
    "    wp.close()\n",
    "rp.close()    "
   ]
  },
  {
   "cell_type": "code",
   "execution_count": 36,
   "metadata": {},
   "outputs": [
    {
     "data": {
      "text/plain": [
       "0"
      ]
     },
     "execution_count": 36,
     "metadata": {},
     "output_type": "execute_result"
    }
   ],
   "source": [
    "# now lets pull out the ENSP tags\n",
    "import os\n",
    "readpath = '../funco_bench_ensp_tags/ash_father_ensp_clean.vcf'\n",
    "writepath = '../funco_bench_ensp_tags/ash_father_ensp_only.vcf'\n",
    "\n",
    "cmd = 'grep -E -o \"ENSP.{0,20}\" ' + readpath + ' > '+ writepath\n",
    "os.system(cmd)"
   ]
  },
  {
   "cell_type": "code",
   "execution_count": 40,
   "metadata": {},
   "outputs": [
    {
     "data": {
      "text/plain": [
       "0"
      ]
     },
     "execution_count": 40,
     "metadata": {},
     "output_type": "execute_result"
    }
   ],
   "source": [
    "# and now get just the ENSP tags with '.p' in them\n",
    "readpath = '../funco_bench_ensp_tags/ash_father_ensp_only.vcf'\n",
    "writepath = '../funco_bench_ensp_tags/ash_father_ensp_filt.vcf'\n",
    "cmd = \"grep ':p.' \" + readpath + ' > ' + writepath\n",
    "os.system(cmd)"
   ]
  },
  {
   "cell_type": "code",
   "execution_count": 42,
   "metadata": {},
   "outputs": [
    {
     "data": {
      "text/plain": [
       "0"
      ]
     },
     "execution_count": 42,
     "metadata": {},
     "output_type": "execute_result"
    }
   ],
   "source": [
    "# and finally, keep only the ENSP trunk labels \n",
    "readpath = '../funco_bench_ensp_tags/ash_father_ensp_filt.vcf'\n",
    "writepath = '../funco_bench_ensp_tags/ash_father_ensp_filt_final.vcf'\n",
    "\n",
    "cmd = 'grep -E -o \"ENSP.{0,11}\" ' + readpath + ' > ' + writepath\n",
    "os.system(cmd)"
   ]
  },
  {
   "cell_type": "code",
   "execution_count": null,
   "metadata": {},
   "outputs": [],
   "source": []
  }
 ],
 "metadata": {
  "kernelspec": {
   "display_name": "Python 3",
   "language": "python",
   "name": "python3"
  },
  "language_info": {
   "codemirror_mode": {
    "name": "ipython",
    "version": 3
   },
   "file_extension": ".py",
   "mimetype": "text/x-python",
   "name": "python",
   "nbconvert_exporter": "python",
   "pygments_lexer": "ipython3",
   "version": "3.7.3"
  }
 },
 "nbformat": 4,
 "nbformat_minor": 2
}
