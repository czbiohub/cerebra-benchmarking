{
 "cells": [
  {
   "cell_type": "code",
   "execution_count": null,
   "metadata": {},
   "outputs": [],
   "source": [
    "'''snippet to filter out the hits coming from intergenic or other regions that \n",
    "    cerebra shouldnt be finding hits in '''"
   ]
  },
  {
   "cell_type": "code",
   "execution_count": 45,
   "metadata": {},
   "outputs": [],
   "source": [
    "import pandas as pd"
   ]
  },
  {
   "cell_type": "code",
   "execution_count": 62,
   "metadata": {
    "scrolled": true
   },
   "outputs": [],
   "source": [
    "readpath = '../funco_bench_basic/hap_map_bench_ensp.vcf'\n",
    "writepath = '../funco_bench_basic/hap_map_bench_ensp_clean.vcf'\n",
    "keep_lines = 0\n",
    "not_keep_lines = 0\n",
    "deplorables = ['|IGR|', '|FIVE_PRIME_UTR|', '|THREE_PRIME_UTR|', '|FIVE_PRIME_FLANK|', '|THREE_PRIME_FLANK|',\n",
    "              '|COULD_NOT_DETERMINE|', '|SILENT|'] # does cerebra keep silent? \n",
    "\n",
    "with open(readpath, 'r') as rp:\n",
    "    with open(writepath, 'w') as wp:\n",
    "        lines = rp.readlines()\n",
    "        for line in lines:\n",
    "            if any(ele in line for ele in deplorables):\n",
    "                not_keep_lines += 1\n",
    "            else:\n",
    "                keep_lines += 1\n",
    "                wp.write(line)\n",
    "                #wp.write(\"\\n\") # not sure this is needed \n",
    "                \n",
    "    wp.close()\n",
    "rp.close()    "
   ]
  },
  {
   "cell_type": "code",
   "execution_count": 63,
   "metadata": {},
   "outputs": [
    {
     "name": "stdout",
     "output_type": "stream",
     "text": [
      "9886\n",
      "31236\n"
     ]
    }
   ],
   "source": [
    "print(not_keep_lines)\n",
    "print(keep_lines)"
   ]
  },
  {
   "cell_type": "code",
   "execution_count": null,
   "metadata": {},
   "outputs": [],
   "source": []
  }
 ],
 "metadata": {
  "kernelspec": {
   "display_name": "Python 3",
   "language": "python",
   "name": "python3"
  },
  "language_info": {
   "codemirror_mode": {
    "name": "ipython",
    "version": 3
   },
   "file_extension": ".py",
   "mimetype": "text/x-python",
   "name": "python",
   "nbconvert_exporter": "python",
   "pygments_lexer": "ipython3",
   "version": "3.7.3"
  }
 },
 "nbformat": 4,
 "nbformat_minor": 2
}
