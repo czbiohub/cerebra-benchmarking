{
 "cells": [
  {
   "cell_type": "code",
   "execution_count": null,
   "metadata": {},
   "outputs": [],
   "source": [
    "''' get the \"ground truth\" set of ENSPs that should be produced by funco/\n",
    "    cereb for a given variant, randomly extracted from a raw vcf file '''"
   ]
  },
  {
   "cell_type": "code",
   "execution_count": 1,
   "metadata": {},
   "outputs": [],
   "source": [
    "import vcfpy\n",
    "import pandas as pd\n",
    "pd.set_option('display.max_rows', 999)"
   ]
  },
  {
   "cell_type": "code",
   "execution_count": 55,
   "metadata": {},
   "outputs": [],
   "source": [
    "def trim_funco_vcf(read_path, write_path):\n",
    "    ''' gets rid of all the nonesense cerebra doesnt pick up '''\n",
    "    reader = vcfpy.Reader.from_path(read_path)\n",
    "    writer = vcfpy.Writer.from_path(write_path, reader.header)\n",
    "    unwanted_class = ['COULD_NOT_DETERMINE', 'INTRON', 'FIVE_PRIME_UTR', \n",
    "                      'THREE_PRIME_UTR', 'IGR', 'FIVE_PRIME_FLANK', 'THREE_PRIME_FLANK', 'LINCRNA']\n",
    "\n",
    "    for record in reader:\n",
    "        funco = record.INFO.get('FUNCOTATION')[0]\n",
    "    \n",
    "        keep = True\n",
    "        for elm in unwanted_class:\n",
    "            if elm in funco:\n",
    "                keep = False\n",
    "    \n",
    "        if keep:\n",
    "            writer.write_record(record)"
   ]
  },
  {
   "cell_type": "code",
   "execution_count": 2,
   "metadata": {},
   "outputs": [],
   "source": [
    "def get_indicies(pos, sorted_gtf):\n",
    "    ''' get overlapping indicies from the gtf file '''\n",
    "    keep_index_list = []\n",
    "    for idx, row in sorted_gtf.iterrows():\n",
    "        if row.start <= pos and row.end >= pos:\n",
    "            keep_index_list.append(idx)\n",
    "            \n",
    "    return(keep_index_list)"
   ]
  },
  {
   "cell_type": "code",
   "execution_count": 3,
   "metadata": {},
   "outputs": [],
   "source": [
    "def get_ensp_ids(indicies, sorted_gtf):\n",
    "    ''' get the ENSP ids from the overlapping indicies in the gtf file '''\n",
    "    sorted_gtf_trim = sorted_gtf.iloc[indicies]\n",
    "    sorted_gtf_trim = sorted_gtf.reset_index(drop=True)\n",
    "    \n",
    "    pids = []\n",
    "    for idx, row in sorted_gtf_trim.iterrows():\n",
    "        attr = row.attribute\n",
    "        if 'protein_id' in attr:\n",
    "            pid = attr.split('protein_id')[1].split(';')[0] # this is janky \n",
    "            pid_strip = pid.split('\"')[1]\n",
    "            pids.append(pid_strip)\n",
    "            \n",
    "    return(pids)"
   ]
  },
  {
   "cell_type": "code",
   "execution_count": 57,
   "metadata": {},
   "outputs": [
    {
     "name": "stdout",
     "output_type": "stream",
     "text": [
      "chr16\t89985030\t.\tG\tA\t294\t.\tAC=2;AF=1.0;AN=2;DP=8;ExcessHet=3.0103;FS=0.0;FUNCOTATION=[AFG3L1P|hg38|chr16|89985030|89985030|RNA||SNP|G|G|A|g.chr16%3A89985030G>A|ENST00000418696.5|+|||c.e5+431G>A|||0.486284289276808|ATAATTAGCCGGACATGGTGG|AFG3L1P_ENST00000557444.5_RNA|||||||||||||||||||||||||||||false||];MLEAC=2;MLEAF=1.0;MQ=nan;QD=32.02;SOR=2.833\tGT:AD:DP:GQ:PL\t1/1:0,8:8:24:308,24,0\r\n"
     ]
    }
   ],
   "source": [
    "''' MAIN STARTS HERE '''\n",
    "# create trimmed funco vcf file\n",
    "trim_funco_vcf('G10_1001000340_benchmark.vcf', 'G10_1001000340_funco_trimmed.vcf')\n",
    "\n",
    "# pull out a random line\n",
    "! gshuf -n 1 G10_1001000340_funco_trimmed.vcf"
   ]
  },
  {
   "cell_type": "code",
   "execution_count": 58,
   "metadata": {},
   "outputs": [
    {
     "name": "stdout",
     "output_type": "stream",
     "text": [
      "chr16\t89985030\t.\tG\tA\t294\t.\tAC=2;AF=1.00;AN=2;DP=8;ExcessHet=3.0103;FS=0.000;MLEAC=2;MLEAF=1.00;MQ=NaN;QD=32.02;SOR=2.833\tGT:AD:DP:GQ:PL\t1/1:0,8:8:24:308,24,0\r\n"
     ]
    }
   ],
   "source": [
    "# make sure its in the raw vcf\n",
    "! grep '89985030' G10_1001000340.vcf"
   ]
  },
  {
   "cell_type": "code",
   "execution_count": null,
   "metadata": {},
   "outputs": [],
   "source": [
    "# subset the gtf file"
   ]
  },
  {
   "cell_type": "code",
   "execution_count": null,
   "metadata": {},
   "outputs": [],
   "source": [
    "chrom = 16\n",
    "pos = 89985030\n",
    "\n",
    "sub_gtf = pd.read_csv('gpr157_sub.gtf', sep='\\t', \n",
    "            names=['chr', 'source', 'feature', 'start', 'end', 'score', 'strand', 'frame', 'attribute'])\n",
    "sub_gtf_sorted = sub_gtf.sort_values('start')\n",
    "sub_gtf_sorted = sub_gtf_sorted.reset_index(drop=True)\n",
    "\n",
    "index_l = get_indicies(pos, sub_gtf_sorted)\n",
    "ensp_l = get_ensp_ids(index_l, sub_gtf_sorted)\n",
    "ensp_l = set(ensp_l)\n",
    "\n",
    "print(ensp_l)"
   ]
  }
 ],
 "metadata": {
  "kernelspec": {
   "display_name": "Python 3",
   "language": "python",
   "name": "python3"
  },
  "language_info": {
   "codemirror_mode": {
    "name": "ipython",
    "version": 3
   },
   "file_extension": ".py",
   "mimetype": "text/x-python",
   "name": "python",
   "nbconvert_exporter": "python",
   "pygments_lexer": "ipython3",
   "version": "3.6.10"
  }
 },
 "nbformat": 4,
 "nbformat_minor": 2
}
